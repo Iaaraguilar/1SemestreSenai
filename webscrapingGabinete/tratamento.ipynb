{
 "cells": [
  {
   "cell_type": "code",
   "execution_count": null,
   "metadata": {},
   "outputs": [],
   "source": [
    "import pandas as pd\n",
    "import numpy as np\n",
    "import matplotlib.pyplot as plt\n",
    "import seaborn as sns\n",
    "\n",
    "df=pd.read_excel('Gabinetes.xlsx')\n",
    "df"
   ]
  },
  {
   "cell_type": "code",
   "execution_count": null,
   "metadata": {},
   "outputs": [],
   "source": [
    "#qual marca tem mais\n",
    "marcas = [\n",
    "    \"Corsair\", \"Cougar\", \"Dazz\", \"Deepcool\", \"Draxen\", \"DT3sports\", \"Duex\", \"Evolut\", \"Evus\",\n",
    "    \"Force Line\", \"Fortrek\", \"Galax\", \"Gamdias\", \"Gamemax\", \"GBT\", \"Gigabyte\", \"Goldentec\", \"GOLDENTEC ACESSORIOS\",\n",
    "    \"Hayom\", \"Hikvision\", \"Husky\", \"Husky Gaming\", \"HYRAX\", \"Hyte\", \"Intelbras\", \"K-mex\", \"KALKAN\", \"KBM! Gaming\",\n",
    "    \"Kmex\", \"Kolink\", \"Ktrok\", \"Lian Li\", \"Liketec\", \"MAXRACER\", \"Microdigi\", \"Motospeed\", \"MSI\", \"Multi\", \"Mymax\",\n",
    "    \"NEOLOGIC\", \"NEXUS\", \"NTC\", \"NZXT\", \"Oex\", \"Onepower\", \"Outros\", \"PCFort\", \"PCYES\", \"Phanteks\", \"Pixxo\", \"Primetek\",\n",
    "    \"Redragon\", \"Rise Mode\", \"Ryvel\", \"SEGOTEP\", \"Sharkoon\", \"Storm-z\", \"T-DAGGER\", \"Tgt\", \"Thermaltake\", \"TOP TAG\",\n",
    "    \"Valianty\", \"Vinik\", \"XPG\"\n",
    "]\n",
    "\n",
    "def detectar_marca(nome_produto):\n",
    "\n",
    "    for marca in marcas:\n",
    "        if marca.lower() in nome_produto.lower():\n",
    "            return marca  \n",
    "    return \"Desconhecida\"  \n",
    "df['marca_detectada'] = df['nome'].apply(detectar_marca)\n",
    "print(df['marca_detectada'].value_counts())\n",
    "#-------------------------------------------------\n",
    "listacores = [\n",
    "   'Branco','Preto','Preta','Preta'\n",
    "]\n",
    "\n",
    "def core(cori_produto):\n",
    "\n",
    "    for cores in listacores:\n",
    "        if cores.lower() in cori_produto.lower():\n",
    "            return cores  \n",
    "    return \"Desconhecida\"  \n",
    "df['cores'] = df['nome'].apply(core)\n",
    "print(df['cores'].value_counts())\n",
    "#----------------------------------------------\n",
    "fontes_lista = [\"com fonte\", \"sem fonte\"]\n",
    "\n",
    "def detectar_fonte(nome_produto):\n",
    "    for f in fontes_lista:\n",
    "        if f.lower() in nome_produto.lower():\n",
    "            return f.capitalize()  \n",
    "    return \"Desconhecida\"\n",
    "\n",
    "df['Fontes'] = df['nome'].apply(detectar_fonte)\n",
    "print(\"\\nFontes detectadas:\")\n",
    "print(df['Fontes'].value_counts())\n",
    "#--------------------------------------------------\n",
    "df.to_excel('tudo.xlsx',index=False)\n"
   ]
  },
  {
   "cell_type": "code",
   "execution_count": null,
   "metadata": {},
   "outputs": [],
   "source": [
    "\n",
    "\n",
    "contagem_marcas = df['marca_detectada'].value_counts()\n",
    "\n",
    "\n",
    "plt.figure(figsize=(8, 8)) \n",
    "plt.pie(contagem_marcas, labels=contagem_marcas.index, autopct='%1.1f%%', startangle=90, colors=plt.cm.Paired.colors)\n",
    "\n",
    "plt.title('Distribuição das Marcas')\n",
    "\n",
    "\n",
    "plt.axis('equal')  \n",
    "plt.show()\n"
   ]
  },
  {
   "cell_type": "markdown",
   "metadata": {},
   "source": [
    "1- CORES\n",
    "a cor mais frequente e o preto\n",
    "\n",
    "2- MARCAS\n",
    "a marca que mais eles vendem e a Goldentec"
   ]
  },
  {
   "cell_type": "code",
   "execution_count": null,
   "metadata": {},
   "outputs": [],
   "source": [
    "contagem_cores = df['cores'].value_counts()\n",
    "\n",
    "# Criando o gráfico de barras\n",
    "plt.figure(figsize=(10, 6))  \n",
    "contagem_cores.plot(kind='bar', color='skyblue')  \n",
    "plt.title('Frequência das Cores')  \n",
    "plt.xlabel('Cores')  # Rótulo do eixo X\n",
    "plt.ylabel('Quantidade')  # Rótulo do eixo Y\n",
    "plt.xticks(rotation=45)  # Rotacionando as labels no eixo X\n",
    "plt.grid(True,axis='y')\n",
    "plt.show()"
   ]
  },
  {
   "cell_type": "code",
   "execution_count": null,
   "metadata": {},
   "outputs": [],
   "source": [
    "\n",
    "df = df[\n",
    "    (df['marca_detectada'] != 'Desconhecida') &\n",
    "    (df['cores'] != 'Desconhecida') &\n",
    "    (df['Fontes'] == 'Com fonte')\n",
    "]\n",
    "\n",
    "df.to_excel('Filtrado.xlsx', index=False)\n",
    "\n",
    "\n"
   ]
  },
  {
   "cell_type": "code",
   "execution_count": null,
   "metadata": {},
   "outputs": [],
   "source": [
    "#quantos w\n",
    "Listaw = ['200w','200 w','200W','200 W']\n",
    "\n",
    "def detectar_W(Wproduto):\n",
    "    for w in Listaw:\n",
    "        if w.lower() in Wproduto.lower():\n",
    "            return w.capitalize()  \n",
    "    return \"Desconhecida\"\n",
    "\n",
    "df['Watts'] = df['nome'].apply(detectar_W)\n",
    "print(\"\\nFontes detectadas:\")\n",
    "print(df['Watts'].value_counts())\n",
    "df.to_excel(\"Watts.xlsx\",index=False)"
   ]
  },
  {
   "cell_type": "code",
   "execution_count": null,
   "metadata": {},
   "outputs": [],
   "source": [
    "\n",
    "df = df[\n",
    "    (df['Watts'] != 'Desconhecida') \n",
    "]\n",
    "\n",
    "df.to_excel('Ultimo.xlsx', index=False)"
   ]
  }
 ],
 "metadata": {
  "kernelspec": {
   "display_name": "Python 3",
   "language": "python",
   "name": "python3"
  },
  "language_info": {
   "codemirror_mode": {
    "name": "ipython",
    "version": 3
   },
   "file_extension": ".py",
   "mimetype": "text/x-python",
   "name": "python",
   "nbconvert_exporter": "python",
   "pygments_lexer": "ipython3",
   "version": "3.12.1"
  }
 },
 "nbformat": 4,
 "nbformat_minor": 2
}
