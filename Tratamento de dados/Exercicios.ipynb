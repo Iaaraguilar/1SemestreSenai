{
 "cells": [
  {
   "cell_type": "code",
   "execution_count": null,
   "metadata": {},
   "outputs": [],
   "source": [
    "#1. Exercício: Carregar um arquivo e exibir as primeiras 5 linhas.\n",
    "import pandas as pd\n",
    "df = pd.read_excel('dados_ausentes.xlsx')\n",
    "df\n"
   ]
  },
  {
   "cell_type": "code",
   "execution_count": null,
   "metadata": {},
   "outputs": [],
   "source": [
    "#2. Exercício: Verificar se há valores NaN nas colunas do DataFrame.\n",
    "import pandas as pd\n",
    "df = pd.read_excel('dados_ausentes.xlsx')\n",
    "df.isnull()"
   ]
  },
  {
   "cell_type": "code",
   "execution_count": null,
   "metadata": {},
   "outputs": [],
   "source": [
    "#3. Exercício: Substituir os valores NaN de uma coluna por 0.\n",
    "import pandas as pd\n",
    "df = pd.read_excel('dados_ausentes.xlsx')\n",
    "\n",
    "df['Salário'].fillna(0)\n"
   ]
  },
  {
   "cell_type": "code",
   "execution_count": null,
   "metadata": {},
   "outputs": [],
   "source": [
    "#4. Exercício: Substituir os valores NaN de uma coluna por um valor específico\n",
    "import pandas as pd\n",
    "df = pd.read_excel('dados_ausentes.xlsx')\n",
    "\n",
    "df['Cidade'].fillna('Desconhecida')"
   ]
  },
  {
   "cell_type": "code",
   "execution_count": null,
   "metadata": {},
   "outputs": [],
   "source": [
    "#5. Exercício: Remover todas as linhas que contêm valores NaN em qualquer coluna\n",
    "import pandas as pd\n",
    "df = pd.read_excel('dados_ausentes.xlsx')\n",
    "\n",
    "dfsemnulo=df.dropna()\n",
    "dfsemnulo\n"
   ]
  },
  {
   "cell_type": "code",
   "execution_count": null,
   "metadata": {},
   "outputs": [],
   "source": [
    "#6. Exercício: Remover todas as linhas que contêm valores NaN em uma coluna específica.\n",
    "import pandas as pd\n",
    "df = pd.read_excel('dados_ausentes.xlsx')\n",
    "dfa= df.dropna(subset=['Cidade'])\n",
    "dfa"
   ]
  },
  {
   "cell_type": "code",
   "execution_count": null,
   "metadata": {},
   "outputs": [],
   "source": [
    "#7. Exercício: Substituir valores NaN de uma coluna com a mediana dessa coluna.\n",
    "import pandas as pd\n",
    "df = pd.read_excel('dados_ausentes.xlsx')\n",
    "\n",
    "df['Salário'].fillna(df['Salário'].mean(),inplace=True)\n",
    "df"
   ]
  },
  {
   "cell_type": "code",
   "execution_count": null,
   "metadata": {},
   "outputs": [],
   "source": [
    "#8. Exercício: Substituir valores NaN de uma coluna com o valor de uma outra coluna.\n",
    "import pandas as pd\n",
    "df = pd.read_excel('dados_ausentes.xlsx')\n",
    "\n",
    "df['Idade'] = df['Idade'].fillna(df['Cidade'])\n",
    "df"
   ]
  },
  {
   "cell_type": "code",
   "execution_count": null,
   "metadata": {},
   "outputs": [],
   "source": [
    "#9. Exercício: Preencher valores NaN com o valor anterior (método de forward fill;).\n",
    "import pandas as pd\n",
    "df = pd.read_excel('dados_ausentes.xlsx')\n",
    "\n",
    "df['Idade'] = df['Idade'].ffill()\n",
    "df"
   ]
  },
  {
   "cell_type": "code",
   "execution_count": null,
   "metadata": {},
   "outputs": [],
   "source": [
    "#10. Exercício: Preencher valores NaN com o valor posterior (método de backward fill).\n",
    "import pandas as pd\n",
    "df = pd.read_excel('dados_ausentes.xlsx')\n",
    "\n",
    "df['Idade'] = df['Idade'].bfill()\n",
    "df"
   ]
  },
  {
   "cell_type": "code",
   "execution_count": null,
   "metadata": {},
   "outputs": [],
   "source": [
    "#11. Exercício: Alterar todos os valores de uma coluna para maiúsculas.\n",
    "\n",
    "import pandas as pd\n",
    "df = pd.read_excel('dados_ausentes.xlsx')\n",
    "\n",
    "df ['Cidade'] = df['Cidade'].str.capitalize()\n",
    "df"
   ]
  },
  {
   "cell_type": "code",
   "execution_count": null,
   "metadata": {},
   "outputs": [],
   "source": [
    "#12. Exercício: Alterar todos os valores de uma coluna para minúsculas.\n",
    "\n",
    "import pandas as pd\n",
    "df = pd.read_excel('dados_ausentes.xlsx')\n",
    "\n",
    "df ['Cidade'] = df['Cidade'].str.lower()\n",
    "df"
   ]
  },
  {
   "cell_type": "code",
   "execution_count": null,
   "metadata": {},
   "outputs": [],
   "source": [
    "#13. Exercício: Remover espaços em branco à esquerda e à direita em uma coluna.\n",
    "\n",
    "\n",
    "import pandas as pd\n",
    "df = pd.read_excel('dados_ausentes.xlsx')\n",
    "#removar da esquerda\n",
    "df ['Cidade'] = df['Cidade'].str.lstrip()\n",
    "#remover da direita \n",
    "df ['Cidade'] = df['Cidade'].str.rstrip()\n",
    "df"
   ]
  },
  {
   "cell_type": "code",
   "execution_count": null,
   "metadata": {},
   "outputs": [],
   "source": [
    "#14. Exercício: Substituir valores de uma coluna com base em um dicionário de mapeamento (ex:São Paulo para \"SP\";).\n",
    "\n",
    "import pandas as pd\n",
    "df = pd.read_excel('dados_ausentes.xlsx')\n",
    "\n",
    "df['Cidade'] = df['Cidade'].str.lower().replace({'são paulo': 'SP', 'rio de janeiro': 'RJ', 'rj': 'RJ', 'salvador': 'BA', 'porto alegre':'POA'})\n",
    "df"
   ]
  },
  {
   "cell_type": "code",
   "execution_count": null,
   "metadata": {},
   "outputs": [],
   "source": [
    "#15 - Exercício: Identificar e remover valores duplicados de um DataFrame.\n",
    "\n",
    "import pandas as pd\n",
    "df = pd.read_excel('dados_ausentes.xlsx')\n",
    "\n",
    "df = df.drop_duplicates(subset=['Nome'])\n",
    "df"
   ]
  }
 ],
 "metadata": {
  "kernelspec": {
   "display_name": "Python 3",
   "language": "python",
   "name": "python3"
  },
  "language_info": {
   "codemirror_mode": {
    "name": "ipython",
    "version": 3
   },
   "file_extension": ".py",
   "mimetype": "text/x-python",
   "name": "python",
   "nbconvert_exporter": "python",
   "pygments_lexer": "ipython3",
   "version": "3.12.1"
  }
 },
 "nbformat": 4,
 "nbformat_minor": 2
}
