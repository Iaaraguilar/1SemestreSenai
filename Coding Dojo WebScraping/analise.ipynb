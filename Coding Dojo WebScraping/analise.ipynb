{
 "cells": [
  {
   "cell_type": "code",
   "execution_count": 93,
   "metadata": {},
   "outputs": [
    {
     "data": {
      "application/vnd.microsoft.datawrangler.viewer.v0+json": {
       "columns": [
        {
         "name": "index",
         "rawType": "int64",
         "type": "integer"
        },
        {
         "name": "titulo",
         "rawType": "object",
         "type": "string"
        },
        {
         "name": "ano",
         "rawType": "int64",
         "type": "integer"
        },
        {
         "name": "classificacao",
         "rawType": "object",
         "type": "unknown"
        }
       ],
       "conversionMethod": "pd.DataFrame",
       "ref": "cfb9a785-91a0-4810-b67e-cc3cc93a4020",
       "rows": [
        [
         "0",
         "1. Um Sonho de Liberdade",
         "1994",
         "16"
        ],
        [
         "1",
         "2. O Poderoso Chefão",
         "1972",
         "14"
        ],
        [
         "2",
         "3. Batman: O Cavaleiro das Trevas",
         "2008",
         "12"
        ],
        [
         "3",
         "4. O Poderoso Chefão: Parte II",
         "1974",
         "14"
        ],
        [
         "4",
         "5. 12 Homens e uma Sentença",
         "1957",
         "Livre"
        ],
        [
         "5",
         "6. O Senhor dos Anéis: O Retorno do Rei",
         "2003",
         "12"
        ],
        [
         "6",
         "7. A Lista de Schindler",
         "1993",
         "14"
        ],
        [
         "7",
         "8. Pulp Fiction: Tempo de Violência",
         "1994",
         "18"
        ],
        [
         "8",
         "9. O Senhor dos Anéis: A Sociedade do Anel",
         "2001",
         "12"
        ],
        [
         "9",
         "10. Três Homens em Conflito",
         "1966",
         "14"
        ],
        [
         "10",
         "11. Forrest Gump: O Contador de Histórias",
         "1994",
         "14"
        ],
        [
         "11",
         "12. O Senhor dos Anéis: As Duas Torres",
         "2002",
         "12"
        ],
        [
         "12",
         "13. Clube da Luta",
         "1999",
         "18"
        ],
        [
         "13",
         "14. A Origem",
         "2010",
         "14"
        ],
        [
         "14",
         "15. Star Wars: Episódio V - O Império Contra-Ataca",
         "1980",
         "Livre"
        ],
        [
         "15",
         "16. Matrix",
         "1999",
         "14"
        ],
        [
         "16",
         "17. Os Bons Companheiros",
         "1990",
         "14"
        ],
        [
         "17",
         "18. Interestelar",
         "2014",
         "10"
        ],
        [
         "18",
         "19. Um Estranho no Ninho",
         "1975",
         "16"
        ],
        [
         "19",
         "20. Seven - Os Sete Crimes Capitais",
         "1995",
         "14"
        ],
        [
         "20",
         "21. A Felicidade Não se Compra",
         "1946",
         "Livre"
        ],
        [
         "21",
         "22. O Silêncio dos Inocentes",
         "1991",
         "14"
        ],
        [
         "22",
         "23. Os Sete Samurais",
         "1954",
         "10"
        ],
        [
         "23",
         "24. O Resgate do Soldado Ryan",
         "1998",
         "14"
        ],
        [
         "24",
         "25. Cidade de Deus",
         "2002",
         "18"
        ],
        [
         "25",
         "26. À Espera de um Milagre",
         "1999",
         "18"
        ],
        [
         "26",
         "27. A Vida é Bela",
         "1997",
         "Livre"
        ],
        [
         "27",
         "28. O Exterminador do Futuro 2: O Julgamento Final",
         "1991",
         "14"
        ],
        [
         "28",
         "29. Star Wars: Episódio IV - Uma Nova Esperança",
         "1977",
         "Livre"
        ],
        [
         "29",
         "30. De Volta para o Futuro",
         "1985",
         "Livre"
        ],
        [
         "30",
         "31. A Viagem de Chihiro",
         "2001",
         "Livre"
        ],
        [
         "31",
         "32. O Pianista",
         "2002",
         "14"
        ],
        [
         "32",
         "33. Gladiador",
         "2000",
         "14"
        ],
        [
         "33",
         "34. Parasita",
         "2019",
         "16"
        ],
        [
         "34",
         "35. Psicose",
         "1960",
         "14"
        ],
        [
         "35",
         "36. O Rei Leão",
         "1994",
         "Livre"
        ],
        [
         "36",
         "37. Túmulo dos Vagalumes",
         "1988",
         "12"
        ],
        [
         "37",
         "38. Os Infiltrados",
         "2006",
         "18"
        ],
        [
         "38",
         "39. Whiplash: Em Busca da Perfeição",
         "2014",
         "12"
        ],
        [
         "39",
         "40. Harakiri",
         "1962",
         "16"
        ],
        [
         "40",
         "41. A Outra História Americana",
         "1998",
         "16"
        ],
        [
         "41",
         "42. O Grande Truque",
         "2006",
         "14"
        ],
        [
         "42",
         "43. O Profissional",
         "1994",
         "14"
        ],
        [
         "43",
         "44. Homem-Aranha: Através do Aranhaverso",
         "2023",
         "10"
        ],
        [
         "44",
         "45. Casablanca",
         "1942",
         "Livre"
        ],
        [
         "45",
         "46. Os Suspeitos",
         "1995",
         "14"
        ],
        [
         "46",
         "47. Intocáveis",
         "2011",
         "14"
        ],
        [
         "47",
         "48. Cinema Paradiso",
         "1988",
         "10"
        ],
        [
         "48",
         "49. Alien - O 8º Passageiro",
         "1979",
         "14"
        ],
        [
         "49",
         "50. Tempos Modernos",
         "1936",
         "Livre"
        ]
       ],
       "shape": {
        "columns": 3,
        "rows": 250
       }
      },
      "text/html": [
       "<div>\n",
       "<style scoped>\n",
       "    .dataframe tbody tr th:only-of-type {\n",
       "        vertical-align: middle;\n",
       "    }\n",
       "\n",
       "    .dataframe tbody tr th {\n",
       "        vertical-align: top;\n",
       "    }\n",
       "\n",
       "    .dataframe thead th {\n",
       "        text-align: right;\n",
       "    }\n",
       "</style>\n",
       "<table border=\"1\" class=\"dataframe\">\n",
       "  <thead>\n",
       "    <tr style=\"text-align: right;\">\n",
       "      <th></th>\n",
       "      <th>titulo</th>\n",
       "      <th>ano</th>\n",
       "      <th>classificacao</th>\n",
       "    </tr>\n",
       "  </thead>\n",
       "  <tbody>\n",
       "    <tr>\n",
       "      <th>0</th>\n",
       "      <td>1. Um Sonho de Liberdade</td>\n",
       "      <td>1994</td>\n",
       "      <td>16</td>\n",
       "    </tr>\n",
       "    <tr>\n",
       "      <th>1</th>\n",
       "      <td>2. O Poderoso Chefão</td>\n",
       "      <td>1972</td>\n",
       "      <td>14</td>\n",
       "    </tr>\n",
       "    <tr>\n",
       "      <th>2</th>\n",
       "      <td>3. Batman: O Cavaleiro das Trevas</td>\n",
       "      <td>2008</td>\n",
       "      <td>12</td>\n",
       "    </tr>\n",
       "    <tr>\n",
       "      <th>3</th>\n",
       "      <td>4. O Poderoso Chefão: Parte II</td>\n",
       "      <td>1974</td>\n",
       "      <td>14</td>\n",
       "    </tr>\n",
       "    <tr>\n",
       "      <th>4</th>\n",
       "      <td>5. 12 Homens e uma Sentença</td>\n",
       "      <td>1957</td>\n",
       "      <td>Livre</td>\n",
       "    </tr>\n",
       "    <tr>\n",
       "      <th>...</th>\n",
       "      <td>...</td>\n",
       "      <td>...</td>\n",
       "      <td>...</td>\n",
       "    </tr>\n",
       "    <tr>\n",
       "      <th>245</th>\n",
       "      <td>246. Na Natureza Selvagem</td>\n",
       "      <td>2007</td>\n",
       "      <td>12</td>\n",
       "    </tr>\n",
       "    <tr>\n",
       "      <th>246</th>\n",
       "      <td>247. Feitiço do Tempo</td>\n",
       "      <td>1993</td>\n",
       "      <td>12</td>\n",
       "    </tr>\n",
       "    <tr>\n",
       "      <th>247</th>\n",
       "      <td>248. Histórias Cruzadas</td>\n",
       "      <td>2011</td>\n",
       "      <td>12</td>\n",
       "    </tr>\n",
       "    <tr>\n",
       "      <th>248</th>\n",
       "      <td>249. Amores Brutos</td>\n",
       "      <td>2000</td>\n",
       "      <td>16</td>\n",
       "    </tr>\n",
       "    <tr>\n",
       "      <th>249</th>\n",
       "      <td>250. Rebecca, a Mulher Inesquecível</td>\n",
       "      <td>1940</td>\n",
       "      <td>12</td>\n",
       "    </tr>\n",
       "  </tbody>\n",
       "</table>\n",
       "<p>250 rows × 3 columns</p>\n",
       "</div>"
      ],
      "text/plain": [
       "                                  titulo   ano classificacao\n",
       "0               1. Um Sonho de Liberdade  1994            16\n",
       "1                   2. O Poderoso Chefão  1972            14\n",
       "2      3. Batman: O Cavaleiro das Trevas  2008            12\n",
       "3         4. O Poderoso Chefão: Parte II  1974            14\n",
       "4            5. 12 Homens e uma Sentença  1957         Livre\n",
       "..                                   ...   ...           ...\n",
       "245            246. Na Natureza Selvagem  2007            12\n",
       "246                247. Feitiço do Tempo  1993            12\n",
       "247              248. Histórias Cruzadas  2011            12\n",
       "248                   249. Amores Brutos  2000            16\n",
       "249  250. Rebecca, a Mulher Inesquecível  1940            12\n",
       "\n",
       "[250 rows x 3 columns]"
      ]
     },
     "execution_count": 93,
     "metadata": {},
     "output_type": "execute_result"
    }
   ],
   "source": [
    "import pandas as pd\n",
    "import numpy as np\n",
    "import matplotlib.pyplot as plt\n",
    "import seaborn as sns\n",
    "\n",
    "df = pd.read_excel('imdbTratado.xlsx')\n",
    "df"
   ]
  },
  {
   "cell_type": "code",
   "execution_count": 94,
   "metadata": {},
   "outputs": [
    {
     "data": {
      "application/vnd.microsoft.datawrangler.viewer.v0+json": {
       "columns": [
        {
         "name": "index",
         "rawType": "int64",
         "type": "integer"
        },
        {
         "name": "titulo",
         "rawType": "object",
         "type": "string"
        },
        {
         "name": "ano",
         "rawType": "object",
         "type": "string"
        },
        {
         "name": "classificacao",
         "rawType": "object",
         "type": "unknown"
        }
       ],
       "conversionMethod": "pd.DataFrame",
       "ref": "813e049c-f45e-4999-b5d8-d13b0dc6bdb3",
       "rows": [
        [
         "0",
         "1. Um Sonho de Liberdade",
         "1994",
         "16"
        ],
        [
         "1",
         "2. O Poderoso Chefão",
         "1972",
         "14"
        ],
        [
         "2",
         "3. Batman: O Cavaleiro das Trevas",
         "2008",
         "12"
        ],
        [
         "3",
         "4. O Poderoso Chefão: Parte II",
         "1974",
         "14"
        ],
        [
         "4",
         "5. 12 Homens e uma Sentença",
         "1957",
         "Livre"
        ],
        [
         "5",
         "6. O Senhor dos Anéis: O Retorno do Rei",
         "2003",
         "12"
        ],
        [
         "6",
         "7. A Lista de Schindler",
         "1993",
         "14"
        ],
        [
         "7",
         "8. Pulp Fiction: Tempo de Violência",
         "1994",
         "18"
        ],
        [
         "8",
         "9. O Senhor dos Anéis: A Sociedade do Anel",
         "2001",
         "12"
        ],
        [
         "9",
         "10. Três Homens em Conflito",
         "1966",
         "14"
        ],
        [
         "10",
         "11. Forrest Gump: O Contador de Histórias",
         "1994",
         "14"
        ],
        [
         "11",
         "12. O Senhor dos Anéis: As Duas Torres",
         "2002",
         "12"
        ],
        [
         "12",
         "13. Clube da Luta",
         "1999",
         "18"
        ],
        [
         "13",
         "14. A Origem",
         "2010",
         "14"
        ],
        [
         "14",
         "15. Star Wars: Episódio V - O Império Contra-Ataca",
         "1980",
         "Livre"
        ],
        [
         "15",
         "16. Matrix",
         "1999",
         "14"
        ],
        [
         "16",
         "17. Os Bons Companheiros",
         "1990",
         "14"
        ],
        [
         "17",
         "18. Interestelar",
         "2014",
         "10"
        ],
        [
         "18",
         "19. Um Estranho no Ninho",
         "1975",
         "16"
        ],
        [
         "19",
         "20. Seven - Os Sete Crimes Capitais",
         "1995",
         "14"
        ],
        [
         "20",
         "21. A Felicidade Não se Compra",
         "1946",
         "Livre"
        ],
        [
         "21",
         "22. O Silêncio dos Inocentes",
         "1991",
         "14"
        ],
        [
         "22",
         "23. Os Sete Samurais",
         "1954",
         "10"
        ],
        [
         "23",
         "24. O Resgate do Soldado Ryan",
         "1998",
         "14"
        ],
        [
         "24",
         "25. Cidade de Deus",
         "2002",
         "18"
        ],
        [
         "25",
         "26. À Espera de um Milagre",
         "1999",
         "18"
        ],
        [
         "26",
         "27. A Vida é Bela",
         "1997",
         "Livre"
        ],
        [
         "27",
         "28. O Exterminador do Futuro 2: O Julgamento Final",
         "1991",
         "14"
        ],
        [
         "28",
         "29. Star Wars: Episódio IV - Uma Nova Esperança",
         "1977",
         "Livre"
        ],
        [
         "29",
         "30. De Volta para o Futuro",
         "1985",
         "Livre"
        ],
        [
         "30",
         "31. A Viagem de Chihiro",
         "2001",
         "Livre"
        ],
        [
         "31",
         "32. O Pianista",
         "2002",
         "14"
        ],
        [
         "32",
         "33. Gladiador",
         "2000",
         "14"
        ],
        [
         "33",
         "34. Parasita",
         "2019",
         "16"
        ],
        [
         "34",
         "35. Psicose",
         "1960",
         "14"
        ],
        [
         "35",
         "36. O Rei Leão",
         "1994",
         "Livre"
        ],
        [
         "36",
         "37. Túmulo dos Vagalumes",
         "1988",
         "12"
        ],
        [
         "37",
         "38. Os Infiltrados",
         "2006",
         "18"
        ],
        [
         "38",
         "39. Whiplash: Em Busca da Perfeição",
         "2014",
         "12"
        ],
        [
         "39",
         "40. Harakiri",
         "1962",
         "16"
        ],
        [
         "40",
         "41. A Outra História Americana",
         "1998",
         "16"
        ],
        [
         "41",
         "42. O Grande Truque",
         "2006",
         "14"
        ],
        [
         "42",
         "43. O Profissional",
         "1994",
         "14"
        ],
        [
         "43",
         "44. Homem-Aranha: Através do Aranhaverso",
         "2023",
         "10"
        ],
        [
         "44",
         "45. Casablanca",
         "1942",
         "Livre"
        ],
        [
         "45",
         "46. Os Suspeitos",
         "1995",
         "14"
        ],
        [
         "46",
         "47. Intocáveis",
         "2011",
         "14"
        ],
        [
         "47",
         "48. Cinema Paradiso",
         "1988",
         "10"
        ],
        [
         "48",
         "49. Alien - O 8º Passageiro",
         "1979",
         "14"
        ],
        [
         "49",
         "50. Tempos Modernos",
         "1936",
         "Livre"
        ]
       ],
       "shape": {
        "columns": 3,
        "rows": 250
       }
      },
      "text/html": [
       "<div>\n",
       "<style scoped>\n",
       "    .dataframe tbody tr th:only-of-type {\n",
       "        vertical-align: middle;\n",
       "    }\n",
       "\n",
       "    .dataframe tbody tr th {\n",
       "        vertical-align: top;\n",
       "    }\n",
       "\n",
       "    .dataframe thead th {\n",
       "        text-align: right;\n",
       "    }\n",
       "</style>\n",
       "<table border=\"1\" class=\"dataframe\">\n",
       "  <thead>\n",
       "    <tr style=\"text-align: right;\">\n",
       "      <th></th>\n",
       "      <th>titulo</th>\n",
       "      <th>ano</th>\n",
       "      <th>classificacao</th>\n",
       "    </tr>\n",
       "  </thead>\n",
       "  <tbody>\n",
       "    <tr>\n",
       "      <th>0</th>\n",
       "      <td>1. Um Sonho de Liberdade</td>\n",
       "      <td>1994</td>\n",
       "      <td>16</td>\n",
       "    </tr>\n",
       "    <tr>\n",
       "      <th>1</th>\n",
       "      <td>2. O Poderoso Chefão</td>\n",
       "      <td>1972</td>\n",
       "      <td>14</td>\n",
       "    </tr>\n",
       "    <tr>\n",
       "      <th>2</th>\n",
       "      <td>3. Batman: O Cavaleiro das Trevas</td>\n",
       "      <td>2008</td>\n",
       "      <td>12</td>\n",
       "    </tr>\n",
       "    <tr>\n",
       "      <th>3</th>\n",
       "      <td>4. O Poderoso Chefão: Parte II</td>\n",
       "      <td>1974</td>\n",
       "      <td>14</td>\n",
       "    </tr>\n",
       "    <tr>\n",
       "      <th>4</th>\n",
       "      <td>5. 12 Homens e uma Sentença</td>\n",
       "      <td>1957</td>\n",
       "      <td>Livre</td>\n",
       "    </tr>\n",
       "    <tr>\n",
       "      <th>...</th>\n",
       "      <td>...</td>\n",
       "      <td>...</td>\n",
       "      <td>...</td>\n",
       "    </tr>\n",
       "    <tr>\n",
       "      <th>245</th>\n",
       "      <td>246. Na Natureza Selvagem</td>\n",
       "      <td>2007</td>\n",
       "      <td>12</td>\n",
       "    </tr>\n",
       "    <tr>\n",
       "      <th>246</th>\n",
       "      <td>247. Feitiço do Tempo</td>\n",
       "      <td>1993</td>\n",
       "      <td>12</td>\n",
       "    </tr>\n",
       "    <tr>\n",
       "      <th>247</th>\n",
       "      <td>248. Histórias Cruzadas</td>\n",
       "      <td>2011</td>\n",
       "      <td>12</td>\n",
       "    </tr>\n",
       "    <tr>\n",
       "      <th>248</th>\n",
       "      <td>249. Amores Brutos</td>\n",
       "      <td>2000</td>\n",
       "      <td>16</td>\n",
       "    </tr>\n",
       "    <tr>\n",
       "      <th>249</th>\n",
       "      <td>250. Rebecca, a Mulher Inesquecível</td>\n",
       "      <td>1940</td>\n",
       "      <td>12</td>\n",
       "    </tr>\n",
       "  </tbody>\n",
       "</table>\n",
       "<p>250 rows × 3 columns</p>\n",
       "</div>"
      ],
      "text/plain": [
       "                                  titulo   ano classificacao\n",
       "0               1. Um Sonho de Liberdade  1994            16\n",
       "1                   2. O Poderoso Chefão  1972            14\n",
       "2      3. Batman: O Cavaleiro das Trevas  2008            12\n",
       "3         4. O Poderoso Chefão: Parte II  1974            14\n",
       "4            5. 12 Homens e uma Sentença  1957         Livre\n",
       "..                                   ...   ...           ...\n",
       "245            246. Na Natureza Selvagem  2007            12\n",
       "246                247. Feitiço do Tempo  1993            12\n",
       "247              248. Histórias Cruzadas  2011            12\n",
       "248                   249. Amores Brutos  2000            16\n",
       "249  250. Rebecca, a Mulher Inesquecível  1940            12\n",
       "\n",
       "[250 rows x 3 columns]"
      ]
     },
     "execution_count": 94,
     "metadata": {},
     "output_type": "execute_result"
    }
   ],
   "source": [
    "df['ano'] = df['ano'].apply(str)\n",
    "df"
   ]
  },
  {
   "cell_type": "code",
   "execution_count": 95,
   "metadata": {},
   "outputs": [
    {
     "data": {
      "text/plain": [
       "ano\n",
       "1995    8\n",
       "2004    7\n",
       "1999    6\n",
       "2003    6\n",
       "2019    6\n",
       "1957    6\n",
       "2009    6\n",
       "1997    5\n",
       "2014    5\n",
       "2001    5\n",
       "Name: count, dtype: int64"
      ]
     },
     "execution_count": 95,
     "metadata": {},
     "output_type": "execute_result"
    }
   ],
   "source": [
    "ano_mais_freq = df['ano'].value_counts().sort_values(ascending=False).head(10)\n",
    "ano_mais_freq"
   ]
  },
  {
   "cell_type": "code",
   "execution_count": 96,
   "metadata": {},
   "outputs": [
    {
     "data": {
      "image/png": "[encoded data removed]",
      "text/plain": [
       "<Figure size 1000x600 with 1 Axes>"
      ]
     },
     "metadata": {},
     "output_type": "display_data"
    }
   ],
   "source": [
    "plt.figure(figsize=(10, 6))  \n",
    "ano_mais_freq.plot(kind='bar', color='skyblue')  \n",
    "plt.title('Anos mais frequentes')  \n",
    "plt.xlabel('Anos')  # Rótulo do eixo X\n",
    "plt.ylabel('Frequência')  # Rótulo do eixo Y\n",
    "plt.xticks(rotation=45)  # Rotacionando as labels no eixo X\n",
    "plt.grid(True,axis='y')\n",
    "plt.show()"
   ]
  },
  {
   "cell_type": "code",
   "execution_count": 97,
   "metadata": {},
   "outputs": [
    {
     "data": {
      "image/png": "[encoded data removed]",
      "text/plain": [
       "<Figure size 1000x600 with 1 Axes>"
      ]
     },
     "metadata": {},
     "output_type": "display_data"
    }
   ],
   "source": [
    "distribucao_classificacao = df['classificacao'].value_counts()\n",
    "\n",
    "distribucao_classificacao\n",
    "\n",
    "plt.figure(figsize=(10, 6))  \n",
    "distribucao_classificacao.plot(kind='bar', color='skyblue')  \n",
    "plt.title('Frequência das Cores')  \n",
    "plt.xlabel('Cores')  # Rótulo do eixo X\n",
    "plt.ylabel('Quantidade')  # Rótulo do eixo Y\n",
    "plt.xticks(rotation=45)  # Rotacionando as labels no eixo X\n",
    "plt.grid(True,axis='y')\n",
    "plt.show()\n",
    "\n"
   ]
  }
 ],
 "metadata": {
  "kernelspec": {
   "display_name": "Python 3",
   "language": "python",
   "name": "python3"
  },
  "language_info": {
   "codemirror_mode": {
    "name": "ipython",
    "version": 3
   },
   "file_extension": ".py",
   "mimetype": "text/x-python",
   "name": "python",
   "nbconvert_exporter": "python",
   "pygments_lexer": "ipython3",
   "version": "3.12.8"
  }
 },
 "nbformat": 4,
 "nbformat_minor": 2
}
