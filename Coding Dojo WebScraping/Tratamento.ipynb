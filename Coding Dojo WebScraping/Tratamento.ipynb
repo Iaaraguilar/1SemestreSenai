{
 "cells": [
  {
   "cell_type": "code",
   "execution_count": 94,
   "metadata": {},
   "outputs": [
    {
     "data": {
      "application/vnd.microsoft.datawrangler.viewer.v0+json": {
       "columns": [
        {
         "name": "index",
         "rawType": "int64",
         "type": "integer"
        },
        {
         "name": "titulo",
         "rawType": "object",
         "type": "string"
        },
        {
         "name": "ano",
         "rawType": "object",
         "type": "string"
        }
       ],
       "conversionMethod": "pd.DataFrame",
       "ref": "81753926-b7a9-493a-927b-dc51a3ef9d4e",
       "rows": [
        [
         "0",
         "1. Um Sonho de Liberdade",
         "1994\n2h 22m\n16"
        ],
        [
         "1",
         "2. O Poderoso Chefão",
         "1972\n2h 55m\n14"
        ],
        [
         "2",
         "3. Batman: O Cavaleiro das Trevas",
         "2008\n2h 32m\n12"
        ],
        [
         "3",
         "4. O Poderoso Chefão: Parte II",
         "1974\n3h 22m\n14"
        ],
        [
         "4",
         "5. 12 Homens e uma Sentença",
         "1957\n1h 36m\nLivre"
        ],
        [
         "5",
         "6. O Senhor dos Anéis: O Retorno do Rei",
         "2003\n3h 21m\n12"
        ],
        [
         "6",
         "7. A Lista de Schindler",
         "1993\n3h 15m\n14"
        ],
        [
         "7",
         "8. Pulp Fiction: Tempo de Violência",
         "1994\n2h 34m\n18"
        ],
        [
         "8",
         "9. O Senhor dos Anéis: A Sociedade do Anel",
         "2001\n2h 58m\n12"
        ],
        [
         "9",
         "10. Três Homens em Conflito",
         "1966\n2h 41m\n14"
        ],
        [
         "10",
         "11. Forrest Gump: O Contador de Histórias",
         "1994\n2h 22m\n14"
        ],
        [
         "11",
         "12. O Senhor dos Anéis: As Duas Torres",
         "2002\n2h 59m\n12"
        ],
        [
         "12",
         "13. Clube da Luta",
         "1999\n2h 19m\n18"
        ],
        [
         "13",
         "14. A Origem",
         "2010\n2h 28m\n14"
        ],
        [
         "14",
         "15. Star Wars: Episódio V - O Império Contra-Ataca",
         "1980\n2h 4m\nLivre"
        ],
        [
         "15",
         "16. Matrix",
         "1999\n2h 16m\n14"
        ],
        [
         "16",
         "17. Os Bons Companheiros",
         "1990\n2h 25m\n14"
        ],
        [
         "17",
         "18. Interestelar",
         "2014\n2h 49m\n10"
        ],
        [
         "18",
         "19. Um Estranho no Ninho",
         "1975\n2h 13m\n16"
        ],
        [
         "19",
         "20. Seven - Os Sete Crimes Capitais",
         "1995\n2h 7m\n14"
        ],
        [
         "20",
         "21. A Felicidade Não se Compra",
         "1946\n2h 10m\nLivre"
        ],
        [
         "21",
         "22. O Silêncio dos Inocentes",
         "1991\n1h 58m\n14"
        ],
        [
         "22",
         "23. Os Sete Samurais",
         "1954\n3h 27m\n10"
        ],
        [
         "23",
         "24. O Resgate do Soldado Ryan",
         "1998\n2h 49m\n14"
        ],
        [
         "24",
         "25. Cidade de Deus",
         "2002\n2h 10m\n18"
        ],
        [
         "25",
         "26. À Espera de um Milagre",
         "1999\n3h 9m\n18"
        ],
        [
         "26",
         "27. A Vida é Bela",
         "1997\n1h 56m\nLivre"
        ],
        [
         "27",
         "28. O Exterminador do Futuro 2: O Julgamento Final",
         "1991\n2h 17m\n14"
        ],
        [
         "28",
         "29. Star Wars: Episódio IV - Uma Nova Esperança",
         "1977\n2h 1m\nLivre"
        ],
        [
         "29",
         "30. De Volta para o Futuro",
         "1985\n1h 56m\nLivre"
        ],
        [
         "30",
         "31. A Viagem de Chihiro",
         "2001\n2h 4m\nLivre"
        ],
        [
         "31",
         "32. O Pianista",
         "2002\n2h 30m\n14"
        ],
        [
         "32",
         "33. Gladiador",
         "2000\n2h 35m\n14"
        ],
        [
         "33",
         "34. Parasita",
         "2019\n2h 12m\n16"
        ],
        [
         "34",
         "35. Psicose",
         "1960\n1h 49m\n14"
        ],
        [
         "35",
         "36. O Rei Leão",
         "1994\n1h 28m\nLivre"
        ],
        [
         "36",
         "37. Túmulo dos Vagalumes",
         "1988\n1h 28m\n12"
        ],
        [
         "37",
         "38. Os Infiltrados",
         "2006\n2h 31m\n18"
        ],
        [
         "38",
         "39. Whiplash: Em Busca da Perfeição",
         "2014\n1h 46m\n12"
        ],
        [
         "39",
         "40. Harakiri",
         "1962\n2h 13m\n16"
        ],
        [
         "40",
         "41. A Outra História Americana",
         "1998\n1h 59m\n16"
        ],
        [
         "41",
         "42. O Grande Truque",
         "2006\n2h 10m\n14"
        ],
        [
         "42",
         "43. O Profissional",
         "1994\n1h 50m\n14"
        ],
        [
         "43",
         "44. Homem-Aranha: Através do Aranhaverso",
         "2023\n2h 20m\n10"
        ],
        [
         "44",
         "45. Casablanca",
         "1942\n1h 42m\nLivre"
        ],
        [
         "45",
         "46. Os Suspeitos",
         "1995\n1h 46m\n14"
        ],
        [
         "46",
         "47. Intocáveis",
         "2011\n1h 52m\n14"
        ],
        [
         "47",
         "48. Cinema Paradiso",
         "1988\n2h 54m\n10"
        ],
        [
         "48",
         "49. Alien - O 8º Passageiro",
         "1979\n1h 57m\n14"
        ],
        [
         "49",
         "50. Tempos Modernos",
         "1936\n1h 27m\nLivre"
        ]
       ],
       "shape": {
        "columns": 2,
        "rows": 250
       }
      },
      "text/html": [
       "<div>\n",
       "<style scoped>\n",
       "    .dataframe tbody tr th:only-of-type {\n",
       "        vertical-align: middle;\n",
       "    }\n",
       "\n",
       "    .dataframe tbody tr th {\n",
       "        vertical-align: top;\n",
       "    }\n",
       "\n",
       "    .dataframe thead th {\n",
       "        text-align: right;\n",
       "    }\n",
       "</style>\n",
       "<table border=\"1\" class=\"dataframe\">\n",
       "  <thead>\n",
       "    <tr style=\"text-align: right;\">\n",
       "      <th></th>\n",
       "      <th>titulo</th>\n",
       "      <th>ano</th>\n",
       "    </tr>\n",
       "  </thead>\n",
       "  <tbody>\n",
       "    <tr>\n",
       "      <th>0</th>\n",
       "      <td>1. Um Sonho de Liberdade</td>\n",
       "      <td>1994\\n2h 22m\\n16</td>\n",
       "    </tr>\n",
       "    <tr>\n",
       "      <th>1</th>\n",
       "      <td>2. O Poderoso Chefão</td>\n",
       "      <td>1972\\n2h 55m\\n14</td>\n",
       "    </tr>\n",
       "    <tr>\n",
       "      <th>2</th>\n",
       "      <td>3. Batman: O Cavaleiro das Trevas</td>\n",
       "      <td>2008\\n2h 32m\\n12</td>\n",
       "    </tr>\n",
       "    <tr>\n",
       "      <th>3</th>\n",
       "      <td>4. O Poderoso Chefão: Parte II</td>\n",
       "      <td>1974\\n3h 22m\\n14</td>\n",
       "    </tr>\n",
       "    <tr>\n",
       "      <th>4</th>\n",
       "      <td>5. 12 Homens e uma Sentença</td>\n",
       "      <td>1957\\n1h 36m\\nLivre</td>\n",
       "    </tr>\n",
       "    <tr>\n",
       "      <th>...</th>\n",
       "      <td>...</td>\n",
       "      <td>...</td>\n",
       "    </tr>\n",
       "    <tr>\n",
       "      <th>245</th>\n",
       "      <td>246. Na Natureza Selvagem</td>\n",
       "      <td>2007\\n2h 28m\\n12</td>\n",
       "    </tr>\n",
       "    <tr>\n",
       "      <th>246</th>\n",
       "      <td>247. Feitiço do Tempo</td>\n",
       "      <td>1993\\n1h 41m\\n12</td>\n",
       "    </tr>\n",
       "    <tr>\n",
       "      <th>247</th>\n",
       "      <td>248. Histórias Cruzadas</td>\n",
       "      <td>2011\\n2h 26m\\n12</td>\n",
       "    </tr>\n",
       "    <tr>\n",
       "      <th>248</th>\n",
       "      <td>249. Amores Brutos</td>\n",
       "      <td>2000\\n2h 34m\\n16</td>\n",
       "    </tr>\n",
       "    <tr>\n",
       "      <th>249</th>\n",
       "      <td>250. Rebecca, a Mulher Inesquecível</td>\n",
       "      <td>1940\\n2h 10m\\n12</td>\n",
       "    </tr>\n",
       "  </tbody>\n",
       "</table>\n",
       "<p>250 rows × 2 columns</p>\n",
       "</div>"
      ],
      "text/plain": [
       "                                  titulo                  ano\n",
       "0               1. Um Sonho de Liberdade     1994\\n2h 22m\\n16\n",
       "1                   2. O Poderoso Chefão     1972\\n2h 55m\\n14\n",
       "2      3. Batman: O Cavaleiro das Trevas     2008\\n2h 32m\\n12\n",
       "3         4. O Poderoso Chefão: Parte II     1974\\n3h 22m\\n14\n",
       "4            5. 12 Homens e uma Sentença  1957\\n1h 36m\\nLivre\n",
       "..                                   ...                  ...\n",
       "245            246. Na Natureza Selvagem     2007\\n2h 28m\\n12\n",
       "246                247. Feitiço do Tempo     1993\\n1h 41m\\n12\n",
       "247              248. Histórias Cruzadas     2011\\n2h 26m\\n12\n",
       "248                   249. Amores Brutos     2000\\n2h 34m\\n16\n",
       "249  250. Rebecca, a Mulher Inesquecível     1940\\n2h 10m\\n12\n",
       "\n",
       "[250 rows x 2 columns]"
      ]
     },
     "execution_count": 94,
     "metadata": {},
     "output_type": "execute_result"
    }
   ],
   "source": [
    "import pandas as pd\n",
    "import numpy as np\n",
    "\n",
    "df = pd.read_excel('imdbWebScraping.xlsx')\n",
    "df"
   ]
  },
  {
   "cell_type": "code",
   "execution_count": 95,
   "metadata": {},
   "outputs": [
    {
     "data": {
      "application/vnd.microsoft.datawrangler.viewer.v0+json": {
       "columns": [
        {
         "name": "index",
         "rawType": "int64",
         "type": "integer"
        },
        {
         "name": "titulo",
         "rawType": "object",
         "type": "string"
        },
        {
         "name": "ano",
         "rawType": "object",
         "type": "unknown"
        }
       ],
       "conversionMethod": "pd.DataFrame",
       "ref": "42e55dcd-a3e8-4dd0-9bed-fbb586e5e641",
       "rows": [
        [
         "0",
         "1. Um Sonho de Liberdade",
         "['1994', '2h', '22m', '16']"
        ],
        [
         "1",
         "2. O Poderoso Chefão",
         "['1972', '2h', '55m', '14']"
        ],
        [
         "2",
         "3. Batman: O Cavaleiro das Trevas",
         "['2008', '2h', '32m', '12']"
        ],
        [
         "3",
         "4. O Poderoso Chefão: Parte II",
         "['1974', '3h', '22m', '14']"
        ],
        [
         "4",
         "5. 12 Homens e uma Sentença",
         "['1957', '1h', '36m', 'Livre']"
        ],
        [
         "5",
         "6. O Senhor dos Anéis: O Retorno do Rei",
         "['2003', '3h', '21m', '12']"
        ],
        [
         "6",
         "7. A Lista de Schindler",
         "['1993', '3h', '15m', '14']"
        ],
        [
         "7",
         "8. Pulp Fiction: Tempo de Violência",
         "['1994', '2h', '34m', '18']"
        ],
        [
         "8",
         "9. O Senhor dos Anéis: A Sociedade do Anel",
         "['2001', '2h', '58m', '12']"
        ],
        [
         "9",
         "10. Três Homens em Conflito",
         "['1966', '2h', '41m', '14']"
        ],
        [
         "10",
         "11. Forrest Gump: O Contador de Histórias",
         "['1994', '2h', '22m', '14']"
        ],
        [
         "11",
         "12. O Senhor dos Anéis: As Duas Torres",
         "['2002', '2h', '59m', '12']"
        ],
        [
         "12",
         "13. Clube da Luta",
         "['1999', '2h', '19m', '18']"
        ],
        [
         "13",
         "14. A Origem",
         "['2010', '2h', '28m', '14']"
        ],
        [
         "14",
         "15. Star Wars: Episódio V - O Império Contra-Ataca",
         "['1980', '2h', '4m', 'Livre']"
        ],
        [
         "15",
         "16. Matrix",
         "['1999', '2h', '16m', '14']"
        ],
        [
         "16",
         "17. Os Bons Companheiros",
         "['1990', '2h', '25m', '14']"
        ],
        [
         "17",
         "18. Interestelar",
         "['2014', '2h', '49m', '10']"
        ],
        [
         "18",
         "19. Um Estranho no Ninho",
         "['1975', '2h', '13m', '16']"
        ],
        [
         "19",
         "20. Seven - Os Sete Crimes Capitais",
         "['1995', '2h', '7m', '14']"
        ],
        [
         "20",
         "21. A Felicidade Não se Compra",
         "['1946', '2h', '10m', 'Livre']"
        ],
        [
         "21",
         "22. O Silêncio dos Inocentes",
         "['1991', '1h', '58m', '14']"
        ],
        [
         "22",
         "23. Os Sete Samurais",
         "['1954', '3h', '27m', '10']"
        ],
        [
         "23",
         "24. O Resgate do Soldado Ryan",
         "['1998', '2h', '49m', '14']"
        ],
        [
         "24",
         "25. Cidade de Deus",
         "['2002', '2h', '10m', '18']"
        ],
        [
         "25",
         "26. À Espera de um Milagre",
         "['1999', '3h', '9m', '18']"
        ],
        [
         "26",
         "27. A Vida é Bela",
         "['1997', '1h', '56m', 'Livre']"
        ],
        [
         "27",
         "28. O Exterminador do Futuro 2: O Julgamento Final",
         "['1991', '2h', '17m', '14']"
        ],
        [
         "28",
         "29. Star Wars: Episódio IV - Uma Nova Esperança",
         "['1977', '2h', '1m', 'Livre']"
        ],
        [
         "29",
         "30. De Volta para o Futuro",
         "['1985', '1h', '56m', 'Livre']"
        ],
        [
         "30",
         "31. A Viagem de Chihiro",
         "['2001', '2h', '4m', 'Livre']"
        ],
        [
         "31",
         "32. O Pianista",
         "['2002', '2h', '30m', '14']"
        ],
        [
         "32",
         "33. Gladiador",
         "['2000', '2h', '35m', '14']"
        ],
        [
         "33",
         "34. Parasita",
         "['2019', '2h', '12m', '16']"
        ],
        [
         "34",
         "35. Psicose",
         "['1960', '1h', '49m', '14']"
        ],
        [
         "35",
         "36. O Rei Leão",
         "['1994', '1h', '28m', 'Livre']"
        ],
        [
         "36",
         "37. Túmulo dos Vagalumes",
         "['1988', '1h', '28m', '12']"
        ],
        [
         "37",
         "38. Os Infiltrados",
         "['2006', '2h', '31m', '18']"
        ],
        [
         "38",
         "39. Whiplash: Em Busca da Perfeição",
         "['2014', '1h', '46m', '12']"
        ],
        [
         "39",
         "40. Harakiri",
         "['1962', '2h', '13m', '16']"
        ],
        [
         "40",
         "41. A Outra História Americana",
         "['1998', '1h', '59m', '16']"
        ],
        [
         "41",
         "42. O Grande Truque",
         "['2006', '2h', '10m', '14']"
        ],
        [
         "42",
         "43. O Profissional",
         "['1994', '1h', '50m', '14']"
        ],
        [
         "43",
         "44. Homem-Aranha: Através do Aranhaverso",
         "['2023', '2h', '20m', '10']"
        ],
        [
         "44",
         "45. Casablanca",
         "['1942', '1h', '42m', 'Livre']"
        ],
        [
         "45",
         "46. Os Suspeitos",
         "['1995', '1h', '46m', '14']"
        ],
        [
         "46",
         "47. Intocáveis",
         "['2011', '1h', '52m', '14']"
        ],
        [
         "47",
         "48. Cinema Paradiso",
         "['1988', '2h', '54m', '10']"
        ],
        [
         "48",
         "49. Alien - O 8º Passageiro",
         "['1979', '1h', '57m', '14']"
        ],
        [
         "49",
         "50. Tempos Modernos",
         "['1936', '1h', '27m', 'Livre']"
        ]
       ],
       "shape": {
        "columns": 2,
        "rows": 250
       }
      },
      "text/html": [
       "<div>\n",
       "<style scoped>\n",
       "    .dataframe tbody tr th:only-of-type {\n",
       "        vertical-align: middle;\n",
       "    }\n",
       "\n",
       "    .dataframe tbody tr th {\n",
       "        vertical-align: top;\n",
       "    }\n",
       "\n",
       "    .dataframe thead th {\n",
       "        text-align: right;\n",
       "    }\n",
       "</style>\n",
       "<table border=\"1\" class=\"dataframe\">\n",
       "  <thead>\n",
       "    <tr style=\"text-align: right;\">\n",
       "      <th></th>\n",
       "      <th>titulo</th>\n",
       "      <th>ano</th>\n",
       "    </tr>\n",
       "  </thead>\n",
       "  <tbody>\n",
       "    <tr>\n",
       "      <th>0</th>\n",
       "      <td>1. Um Sonho de Liberdade</td>\n",
       "      <td>[1994, 2h, 22m, 16]</td>\n",
       "    </tr>\n",
       "    <tr>\n",
       "      <th>1</th>\n",
       "      <td>2. O Poderoso Chefão</td>\n",
       "      <td>[1972, 2h, 55m, 14]</td>\n",
       "    </tr>\n",
       "    <tr>\n",
       "      <th>2</th>\n",
       "      <td>3. Batman: O Cavaleiro das Trevas</td>\n",
       "      <td>[2008, 2h, 32m, 12]</td>\n",
       "    </tr>\n",
       "    <tr>\n",
       "      <th>3</th>\n",
       "      <td>4. O Poderoso Chefão: Parte II</td>\n",
       "      <td>[1974, 3h, 22m, 14]</td>\n",
       "    </tr>\n",
       "    <tr>\n",
       "      <th>4</th>\n",
       "      <td>5. 12 Homens e uma Sentença</td>\n",
       "      <td>[1957, 1h, 36m, Livre]</td>\n",
       "    </tr>\n",
       "    <tr>\n",
       "      <th>...</th>\n",
       "      <td>...</td>\n",
       "      <td>...</td>\n",
       "    </tr>\n",
       "    <tr>\n",
       "      <th>245</th>\n",
       "      <td>246. Na Natureza Selvagem</td>\n",
       "      <td>[2007, 2h, 28m, 12]</td>\n",
       "    </tr>\n",
       "    <tr>\n",
       "      <th>246</th>\n",
       "      <td>247. Feitiço do Tempo</td>\n",
       "      <td>[1993, 1h, 41m, 12]</td>\n",
       "    </tr>\n",
       "    <tr>\n",
       "      <th>247</th>\n",
       "      <td>248. Histórias Cruzadas</td>\n",
       "      <td>[2011, 2h, 26m, 12]</td>\n",
       "    </tr>\n",
       "    <tr>\n",
       "      <th>248</th>\n",
       "      <td>249. Amores Brutos</td>\n",
       "      <td>[2000, 2h, 34m, 16]</td>\n",
       "    </tr>\n",
       "    <tr>\n",
       "      <th>249</th>\n",
       "      <td>250. Rebecca, a Mulher Inesquecível</td>\n",
       "      <td>[1940, 2h, 10m, 12]</td>\n",
       "    </tr>\n",
       "  </tbody>\n",
       "</table>\n",
       "<p>250 rows × 2 columns</p>\n",
       "</div>"
      ],
      "text/plain": [
       "                                  titulo                     ano\n",
       "0               1. Um Sonho de Liberdade     [1994, 2h, 22m, 16]\n",
       "1                   2. O Poderoso Chefão     [1972, 2h, 55m, 14]\n",
       "2      3. Batman: O Cavaleiro das Trevas     [2008, 2h, 32m, 12]\n",
       "3         4. O Poderoso Chefão: Parte II     [1974, 3h, 22m, 14]\n",
       "4            5. 12 Homens e uma Sentença  [1957, 1h, 36m, Livre]\n",
       "..                                   ...                     ...\n",
       "245            246. Na Natureza Selvagem     [2007, 2h, 28m, 12]\n",
       "246                247. Feitiço do Tempo     [1993, 1h, 41m, 12]\n",
       "247              248. Histórias Cruzadas     [2011, 2h, 26m, 12]\n",
       "248                   249. Amores Brutos     [2000, 2h, 34m, 16]\n",
       "249  250. Rebecca, a Mulher Inesquecível     [1940, 2h, 10m, 12]\n",
       "\n",
       "[250 rows x 2 columns]"
      ]
     },
     "execution_count": 95,
     "metadata": {},
     "output_type": "execute_result"
    }
   ],
   "source": [
    "# Ano\n",
    "\n",
    "df['ano'] = df['ano'].str.split()\n",
    "df\n"
   ]
  },
  {
   "cell_type": "code",
   "execution_count": 96,
   "metadata": {},
   "outputs": [],
   "source": [
    "# Classificao\n",
    "\n",
    "def separar_classificacao(lista):\n",
    "    return lista[-1]\n",
    "\n",
    "df['classificacao'] = df['ano'].apply(separar_classificacao)\n",
    "\n",
    "df['classificacao'] = df['classificacao'].replace('35m', '').replace('21m', '').replace('Rated', 'Not Rated')"
   ]
  },
  {
   "cell_type": "code",
   "execution_count": 97,
   "metadata": {},
   "outputs": [
    {
     "data": {
      "application/vnd.microsoft.datawrangler.viewer.v0+json": {
       "columns": [
        {
         "name": "index",
         "rawType": "int64",
         "type": "integer"
        },
        {
         "name": "titulo",
         "rawType": "object",
         "type": "string"
        },
        {
         "name": "ano",
         "rawType": "object",
         "type": "string"
        },
        {
         "name": "classificacao",
         "rawType": "object",
         "type": "string"
        }
       ],
       "conversionMethod": "pd.DataFrame",
       "ref": "cca72a52-9c78-4231-9734-2446e5c4f1d1",
       "rows": [
        [
         "0",
         "1. Um Sonho de Liberdade",
         "1994",
         "16"
        ],
        [
         "1",
         "2. O Poderoso Chefão",
         "1972",
         "14"
        ],
        [
         "2",
         "3. Batman: O Cavaleiro das Trevas",
         "2008",
         "12"
        ],
        [
         "3",
         "4. O Poderoso Chefão: Parte II",
         "1974",
         "14"
        ],
        [
         "4",
         "5. 12 Homens e uma Sentença",
         "1957",
         "Livre"
        ],
        [
         "5",
         "6. O Senhor dos Anéis: O Retorno do Rei",
         "2003",
         "12"
        ],
        [
         "6",
         "7. A Lista de Schindler",
         "1993",
         "14"
        ],
        [
         "7",
         "8. Pulp Fiction: Tempo de Violência",
         "1994",
         "18"
        ],
        [
         "8",
         "9. O Senhor dos Anéis: A Sociedade do Anel",
         "2001",
         "12"
        ],
        [
         "9",
         "10. Três Homens em Conflito",
         "1966",
         "14"
        ],
        [
         "10",
         "11. Forrest Gump: O Contador de Histórias",
         "1994",
         "14"
        ],
        [
         "11",
         "12. O Senhor dos Anéis: As Duas Torres",
         "2002",
         "12"
        ],
        [
         "12",
         "13. Clube da Luta",
         "1999",
         "18"
        ],
        [
         "13",
         "14. A Origem",
         "2010",
         "14"
        ],
        [
         "14",
         "15. Star Wars: Episódio V - O Império Contra-Ataca",
         "1980",
         "Livre"
        ],
        [
         "15",
         "16. Matrix",
         "1999",
         "14"
        ],
        [
         "16",
         "17. Os Bons Companheiros",
         "1990",
         "14"
        ],
        [
         "17",
         "18. Interestelar",
         "2014",
         "10"
        ],
        [
         "18",
         "19. Um Estranho no Ninho",
         "1975",
         "16"
        ],
        [
         "19",
         "20. Seven - Os Sete Crimes Capitais",
         "1995",
         "14"
        ],
        [
         "20",
         "21. A Felicidade Não se Compra",
         "1946",
         "Livre"
        ],
        [
         "21",
         "22. O Silêncio dos Inocentes",
         "1991",
         "14"
        ],
        [
         "22",
         "23. Os Sete Samurais",
         "1954",
         "10"
        ],
        [
         "23",
         "24. O Resgate do Soldado Ryan",
         "1998",
         "14"
        ],
        [
         "24",
         "25. Cidade de Deus",
         "2002",
         "18"
        ],
        [
         "25",
         "26. À Espera de um Milagre",
         "1999",
         "18"
        ],
        [
         "26",
         "27. A Vida é Bela",
         "1997",
         "Livre"
        ],
        [
         "27",
         "28. O Exterminador do Futuro 2: O Julgamento Final",
         "1991",
         "14"
        ],
        [
         "28",
         "29. Star Wars: Episódio IV - Uma Nova Esperança",
         "1977",
         "Livre"
        ],
        [
         "29",
         "30. De Volta para o Futuro",
         "1985",
         "Livre"
        ],
        [
         "30",
         "31. A Viagem de Chihiro",
         "2001",
         "Livre"
        ],
        [
         "31",
         "32. O Pianista",
         "2002",
         "14"
        ],
        [
         "32",
         "33. Gladiador",
         "2000",
         "14"
        ],
        [
         "33",
         "34. Parasita",
         "2019",
         "16"
        ],
        [
         "34",
         "35. Psicose",
         "1960",
         "14"
        ],
        [
         "35",
         "36. O Rei Leão",
         "1994",
         "Livre"
        ],
        [
         "36",
         "37. Túmulo dos Vagalumes",
         "1988",
         "12"
        ],
        [
         "37",
         "38. Os Infiltrados",
         "2006",
         "18"
        ],
        [
         "38",
         "39. Whiplash: Em Busca da Perfeição",
         "2014",
         "12"
        ],
        [
         "39",
         "40. Harakiri",
         "1962",
         "16"
        ],
        [
         "40",
         "41. A Outra História Americana",
         "1998",
         "16"
        ],
        [
         "41",
         "42. O Grande Truque",
         "2006",
         "14"
        ],
        [
         "42",
         "43. O Profissional",
         "1994",
         "14"
        ],
        [
         "43",
         "44. Homem-Aranha: Através do Aranhaverso",
         "2023",
         "10"
        ],
        [
         "44",
         "45. Casablanca",
         "1942",
         "Livre"
        ],
        [
         "45",
         "46. Os Suspeitos",
         "1995",
         "14"
        ],
        [
         "46",
         "47. Intocáveis",
         "2011",
         "14"
        ],
        [
         "47",
         "48. Cinema Paradiso",
         "1988",
         "10"
        ],
        [
         "48",
         "49. Alien - O 8º Passageiro",
         "1979",
         "14"
        ],
        [
         "49",
         "50. Tempos Modernos",
         "1936",
         "Livre"
        ]
       ],
       "shape": {
        "columns": 3,
        "rows": 250
       }
      },
      "text/html": [
       "<div>\n",
       "<style scoped>\n",
       "    .dataframe tbody tr th:only-of-type {\n",
       "        vertical-align: middle;\n",
       "    }\n",
       "\n",
       "    .dataframe tbody tr th {\n",
       "        vertical-align: top;\n",
       "    }\n",
       "\n",
       "    .dataframe thead th {\n",
       "        text-align: right;\n",
       "    }\n",
       "</style>\n",
       "<table border=\"1\" class=\"dataframe\">\n",
       "  <thead>\n",
       "    <tr style=\"text-align: right;\">\n",
       "      <th></th>\n",
       "      <th>titulo</th>\n",
       "      <th>ano</th>\n",
       "      <th>classificacao</th>\n",
       "    </tr>\n",
       "  </thead>\n",
       "  <tbody>\n",
       "    <tr>\n",
       "      <th>0</th>\n",
       "      <td>1. Um Sonho de Liberdade</td>\n",
       "      <td>1994</td>\n",
       "      <td>16</td>\n",
       "    </tr>\n",
       "    <tr>\n",
       "      <th>1</th>\n",
       "      <td>2. O Poderoso Chefão</td>\n",
       "      <td>1972</td>\n",
       "      <td>14</td>\n",
       "    </tr>\n",
       "    <tr>\n",
       "      <th>2</th>\n",
       "      <td>3. Batman: O Cavaleiro das Trevas</td>\n",
       "      <td>2008</td>\n",
       "      <td>12</td>\n",
       "    </tr>\n",
       "    <tr>\n",
       "      <th>3</th>\n",
       "      <td>4. O Poderoso Chefão: Parte II</td>\n",
       "      <td>1974</td>\n",
       "      <td>14</td>\n",
       "    </tr>\n",
       "    <tr>\n",
       "      <th>4</th>\n",
       "      <td>5. 12 Homens e uma Sentença</td>\n",
       "      <td>1957</td>\n",
       "      <td>Livre</td>\n",
       "    </tr>\n",
       "    <tr>\n",
       "      <th>...</th>\n",
       "      <td>...</td>\n",
       "      <td>...</td>\n",
       "      <td>...</td>\n",
       "    </tr>\n",
       "    <tr>\n",
       "      <th>245</th>\n",
       "      <td>246. Na Natureza Selvagem</td>\n",
       "      <td>2007</td>\n",
       "      <td>12</td>\n",
       "    </tr>\n",
       "    <tr>\n",
       "      <th>246</th>\n",
       "      <td>247. Feitiço do Tempo</td>\n",
       "      <td>1993</td>\n",
       "      <td>12</td>\n",
       "    </tr>\n",
       "    <tr>\n",
       "      <th>247</th>\n",
       "      <td>248. Histórias Cruzadas</td>\n",
       "      <td>2011</td>\n",
       "      <td>12</td>\n",
       "    </tr>\n",
       "    <tr>\n",
       "      <th>248</th>\n",
       "      <td>249. Amores Brutos</td>\n",
       "      <td>2000</td>\n",
       "      <td>16</td>\n",
       "    </tr>\n",
       "    <tr>\n",
       "      <th>249</th>\n",
       "      <td>250. Rebecca, a Mulher Inesquecível</td>\n",
       "      <td>1940</td>\n",
       "      <td>12</td>\n",
       "    </tr>\n",
       "  </tbody>\n",
       "</table>\n",
       "<p>250 rows × 3 columns</p>\n",
       "</div>"
      ],
      "text/plain": [
       "                                  titulo   ano classificacao\n",
       "0               1. Um Sonho de Liberdade  1994            16\n",
       "1                   2. O Poderoso Chefão  1972            14\n",
       "2      3. Batman: O Cavaleiro das Trevas  2008            12\n",
       "3         4. O Poderoso Chefão: Parte II  1974            14\n",
       "4            5. 12 Homens e uma Sentença  1957         Livre\n",
       "..                                   ...   ...           ...\n",
       "245            246. Na Natureza Selvagem  2007            12\n",
       "246                247. Feitiço do Tempo  1993            12\n",
       "247              248. Histórias Cruzadas  2011            12\n",
       "248                   249. Amores Brutos  2000            16\n",
       "249  250. Rebecca, a Mulher Inesquecível  1940            12\n",
       "\n",
       "[250 rows x 3 columns]"
      ]
     },
     "execution_count": 97,
     "metadata": {},
     "output_type": "execute_result"
    }
   ],
   "source": [
    "# Ano\n",
    "\n",
    "def separar_ano(lista):\n",
    "    return lista[0]\n",
    "\n",
    "df['ano'] = df['ano'].apply(separar_ano)\n",
    "\n",
    "df"
   ]
  },
  {
   "cell_type": "code",
   "execution_count": 98,
   "metadata": {},
   "outputs": [
    {
     "data": {
      "application/vnd.microsoft.datawrangler.viewer.v0+json": {
       "columns": [
        {
         "name": "index",
         "rawType": "int64",
         "type": "integer"
        },
        {
         "name": "titulo",
         "rawType": "object",
         "type": "string"
        },
        {
         "name": "ano",
         "rawType": "int64",
         "type": "integer"
        },
        {
         "name": "classificacao",
         "rawType": "object",
         "type": "string"
        }
       ],
       "conversionMethod": "pd.DataFrame",
       "ref": "36e88362-250d-4f60-9422-1205e209f5f6",
       "rows": [
        [
         "0",
         "1. Um Sonho de Liberdade",
         "1994",
         "16"
        ],
        [
         "1",
         "2. O Poderoso Chefão",
         "1972",
         "14"
        ],
        [
         "2",
         "3. Batman: O Cavaleiro das Trevas",
         "2008",
         "12"
        ],
        [
         "3",
         "4. O Poderoso Chefão: Parte II",
         "1974",
         "14"
        ],
        [
         "4",
         "5. 12 Homens e uma Sentença",
         "1957",
         "Livre"
        ],
        [
         "5",
         "6. O Senhor dos Anéis: O Retorno do Rei",
         "2003",
         "12"
        ],
        [
         "6",
         "7. A Lista de Schindler",
         "1993",
         "14"
        ],
        [
         "7",
         "8. Pulp Fiction: Tempo de Violência",
         "1994",
         "18"
        ],
        [
         "8",
         "9. O Senhor dos Anéis: A Sociedade do Anel",
         "2001",
         "12"
        ],
        [
         "9",
         "10. Três Homens em Conflito",
         "1966",
         "14"
        ],
        [
         "10",
         "11. Forrest Gump: O Contador de Histórias",
         "1994",
         "14"
        ],
        [
         "11",
         "12. O Senhor dos Anéis: As Duas Torres",
         "2002",
         "12"
        ],
        [
         "12",
         "13. Clube da Luta",
         "1999",
         "18"
        ],
        [
         "13",
         "14. A Origem",
         "2010",
         "14"
        ],
        [
         "14",
         "15. Star Wars: Episódio V - O Império Contra-Ataca",
         "1980",
         "Livre"
        ],
        [
         "15",
         "16. Matrix",
         "1999",
         "14"
        ],
        [
         "16",
         "17. Os Bons Companheiros",
         "1990",
         "14"
        ],
        [
         "17",
         "18. Interestelar",
         "2014",
         "10"
        ],
        [
         "18",
         "19. Um Estranho no Ninho",
         "1975",
         "16"
        ],
        [
         "19",
         "20. Seven - Os Sete Crimes Capitais",
         "1995",
         "14"
        ],
        [
         "20",
         "21. A Felicidade Não se Compra",
         "1946",
         "Livre"
        ],
        [
         "21",
         "22. O Silêncio dos Inocentes",
         "1991",
         "14"
        ],
        [
         "22",
         "23. Os Sete Samurais",
         "1954",
         "10"
        ],
        [
         "23",
         "24. O Resgate do Soldado Ryan",
         "1998",
         "14"
        ],
        [
         "24",
         "25. Cidade de Deus",
         "2002",
         "18"
        ],
        [
         "25",
         "26. À Espera de um Milagre",
         "1999",
         "18"
        ],
        [
         "26",
         "27. A Vida é Bela",
         "1997",
         "Livre"
        ],
        [
         "27",
         "28. O Exterminador do Futuro 2: O Julgamento Final",
         "1991",
         "14"
        ],
        [
         "28",
         "29. Star Wars: Episódio IV - Uma Nova Esperança",
         "1977",
         "Livre"
        ],
        [
         "29",
         "30. De Volta para o Futuro",
         "1985",
         "Livre"
        ],
        [
         "30",
         "31. A Viagem de Chihiro",
         "2001",
         "Livre"
        ],
        [
         "31",
         "32. O Pianista",
         "2002",
         "14"
        ],
        [
         "32",
         "33. Gladiador",
         "2000",
         "14"
        ],
        [
         "33",
         "34. Parasita",
         "2019",
         "16"
        ],
        [
         "34",
         "35. Psicose",
         "1960",
         "14"
        ],
        [
         "35",
         "36. O Rei Leão",
         "1994",
         "Livre"
        ],
        [
         "36",
         "37. Túmulo dos Vagalumes",
         "1988",
         "12"
        ],
        [
         "37",
         "38. Os Infiltrados",
         "2006",
         "18"
        ],
        [
         "38",
         "39. Whiplash: Em Busca da Perfeição",
         "2014",
         "12"
        ],
        [
         "39",
         "40. Harakiri",
         "1962",
         "16"
        ],
        [
         "40",
         "41. A Outra História Americana",
         "1998",
         "16"
        ],
        [
         "41",
         "42. O Grande Truque",
         "2006",
         "14"
        ],
        [
         "42",
         "43. O Profissional",
         "1994",
         "14"
        ],
        [
         "43",
         "44. Homem-Aranha: Através do Aranhaverso",
         "2023",
         "10"
        ],
        [
         "44",
         "45. Casablanca",
         "1942",
         "Livre"
        ],
        [
         "45",
         "46. Os Suspeitos",
         "1995",
         "14"
        ],
        [
         "46",
         "47. Intocáveis",
         "2011",
         "14"
        ],
        [
         "47",
         "48. Cinema Paradiso",
         "1988",
         "10"
        ],
        [
         "48",
         "49. Alien - O 8º Passageiro",
         "1979",
         "14"
        ],
        [
         "49",
         "50. Tempos Modernos",
         "1936",
         "Livre"
        ]
       ],
       "shape": {
        "columns": 3,
        "rows": 250
       }
      },
      "text/html": [
       "<div>\n",
       "<style scoped>\n",
       "    .dataframe tbody tr th:only-of-type {\n",
       "        vertical-align: middle;\n",
       "    }\n",
       "\n",
       "    .dataframe tbody tr th {\n",
       "        vertical-align: top;\n",
       "    }\n",
       "\n",
       "    .dataframe thead th {\n",
       "        text-align: right;\n",
       "    }\n",
       "</style>\n",
       "<table border=\"1\" class=\"dataframe\">\n",
       "  <thead>\n",
       "    <tr style=\"text-align: right;\">\n",
       "      <th></th>\n",
       "      <th>titulo</th>\n",
       "      <th>ano</th>\n",
       "      <th>classificacao</th>\n",
       "    </tr>\n",
       "  </thead>\n",
       "  <tbody>\n",
       "    <tr>\n",
       "      <th>0</th>\n",
       "      <td>1. Um Sonho de Liberdade</td>\n",
       "      <td>1994</td>\n",
       "      <td>16</td>\n",
       "    </tr>\n",
       "    <tr>\n",
       "      <th>1</th>\n",
       "      <td>2. O Poderoso Chefão</td>\n",
       "      <td>1972</td>\n",
       "      <td>14</td>\n",
       "    </tr>\n",
       "    <tr>\n",
       "      <th>2</th>\n",
       "      <td>3. Batman: O Cavaleiro das Trevas</td>\n",
       "      <td>2008</td>\n",
       "      <td>12</td>\n",
       "    </tr>\n",
       "    <tr>\n",
       "      <th>3</th>\n",
       "      <td>4. O Poderoso Chefão: Parte II</td>\n",
       "      <td>1974</td>\n",
       "      <td>14</td>\n",
       "    </tr>\n",
       "    <tr>\n",
       "      <th>4</th>\n",
       "      <td>5. 12 Homens e uma Sentença</td>\n",
       "      <td>1957</td>\n",
       "      <td>Livre</td>\n",
       "    </tr>\n",
       "    <tr>\n",
       "      <th>...</th>\n",
       "      <td>...</td>\n",
       "      <td>...</td>\n",
       "      <td>...</td>\n",
       "    </tr>\n",
       "    <tr>\n",
       "      <th>245</th>\n",
       "      <td>246. Na Natureza Selvagem</td>\n",
       "      <td>2007</td>\n",
       "      <td>12</td>\n",
       "    </tr>\n",
       "    <tr>\n",
       "      <th>246</th>\n",
       "      <td>247. Feitiço do Tempo</td>\n",
       "      <td>1993</td>\n",
       "      <td>12</td>\n",
       "    </tr>\n",
       "    <tr>\n",
       "      <th>247</th>\n",
       "      <td>248. Histórias Cruzadas</td>\n",
       "      <td>2011</td>\n",
       "      <td>12</td>\n",
       "    </tr>\n",
       "    <tr>\n",
       "      <th>248</th>\n",
       "      <td>249. Amores Brutos</td>\n",
       "      <td>2000</td>\n",
       "      <td>16</td>\n",
       "    </tr>\n",
       "    <tr>\n",
       "      <th>249</th>\n",
       "      <td>250. Rebecca, a Mulher Inesquecível</td>\n",
       "      <td>1940</td>\n",
       "      <td>12</td>\n",
       "    </tr>\n",
       "  </tbody>\n",
       "</table>\n",
       "<p>250 rows × 3 columns</p>\n",
       "</div>"
      ],
      "text/plain": [
       "                                  titulo   ano classificacao\n",
       "0               1. Um Sonho de Liberdade  1994            16\n",
       "1                   2. O Poderoso Chefão  1972            14\n",
       "2      3. Batman: O Cavaleiro das Trevas  2008            12\n",
       "3         4. O Poderoso Chefão: Parte II  1974            14\n",
       "4            5. 12 Homens e uma Sentença  1957         Livre\n",
       "..                                   ...   ...           ...\n",
       "245            246. Na Natureza Selvagem  2007            12\n",
       "246                247. Feitiço do Tempo  1993            12\n",
       "247              248. Histórias Cruzadas  2011            12\n",
       "248                   249. Amores Brutos  2000            16\n",
       "249  250. Rebecca, a Mulher Inesquecível  1940            12\n",
       "\n",
       "[250 rows x 3 columns]"
      ]
     },
     "execution_count": 98,
     "metadata": {},
     "output_type": "execute_result"
    }
   ],
   "source": [
    "df['ano'] = df['ano'].apply(int)\n",
    "df"
   ]
  },
  {
   "cell_type": "code",
   "execution_count": 99,
   "metadata": {},
   "outputs": [],
   "source": [
    "df.to_excel('imdbTratado.xlsx', index=False)"
   ]
  }
 ],
 "metadata": {
  "kernelspec": {
   "display_name": "Python 3",
   "language": "python",
   "name": "python3"
  },
  "language_info": {
   "codemirror_mode": {
    "name": "ipython",
    "version": 3
   },
   "file_extension": ".py",
   "mimetype": "text/x-python",
   "name": "python",
   "nbconvert_exporter": "python",
   "pygments_lexer": "ipython3",
   "version": "3.12.8"
  }
 },
 "nbformat": 4,
 "nbformat_minor": 2
}
