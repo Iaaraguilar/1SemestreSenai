{
 "cells": [
  {
   "cell_type": "code",
   "execution_count": null,
   "metadata": {},
   "outputs": [],
   "source": [
    "import pandas as pd\n",
    "import numpy as np\n",
    "import matplotlib.pyplot as plt\n",
    "import seaborn as sns\n",
    "\n",
    "\n",
    "df=pd.read_excel('faltas_treinamento_sujo.xlsx')\n",
    "df"
   ]
  },
  {
   "cell_type": "code",
   "execution_count": null,
   "metadata": {},
   "outputs": [],
   "source": [
    "#Exercício 1 – Higienização Básica\n",
    "#a) Verifique valores nulos e tipos incorretos.\n",
    "df.isnull().sum()\n",
    "#b) Corrija a coluna de datas inválidas.\n",
    "df['Data_Ultima_Falta'] = pd.to_datetime(df['Data_Ultima_Falta'], errors='coerce', dayfirst=True)\n",
    "\n",
    "#c) Normalize os nomes dos turnos e dias da semana.\n",
    "Turno= {\n",
    "    'manhã': 'Manhã',\n",
    "    'tarde': 'Tarde',\n",
    "    'noite': 'Noite',\n",
    "    'madrugada': 'Madrugada',\n",
    "    'manha': 'Manhã',\n",
    "    'tarde': 'Tarde'\n",
    "}\n",
    "df['Turno'] = df['Turno'].str.lower().map(Turno).fillna(df['Turno'])\n",
    "Dia_da_Semana_Ultima_Falta\t= {\n",
    "    'segunda': 'Segunda',\n",
    "    'terca': 'Terça',\n",
    "    'terça': 'Terça',\n",
    "    'quarta': 'Quarta',\n",
    "    'quinta': 'Quinta',\n",
    "    'sexta': 'Sexta',\n",
    "    'sex': 'Sexta',\n",
    "    'sabado': 'Sábado',\n",
    "    'domingo': 'Domingo'\n",
    "}\n",
    "df['Dia_da_Semana_Ultima_Falta'] = df['Dia_da_Semana_Ultima_Falta'].str.lower().map(Dia_da_Semana_Ultima_Falta).fillna(df['Dia_da_Semana_Ultima_Falta'])\n",
    "df"
   ]
  },
  {
   "cell_type": "code",
   "execution_count": null,
   "metadata": {},
   "outputs": [],
   "source": [
    "#Exercício 2 – Remoção e Substituição\n",
    "#a) Remova os registros duplicados.\n",
    "df.drop_duplicates()\n",
    "#b) Substitua os valores nulos da coluna Evadiu por “Desconhecido”.\n",
    "df['Evadiu'] = df['Evadiu'].fillna('Desconhecido')\n",
    "#c) Substitua os valores nulos da coluna Data_Ultima_Falta pela data mais comum.\n",
    "data_comum = df['Data_Ultima_Falta'].mode()[0]\n",
    "df['Data_Ultima_Falta'] = df['Data_Ultima_Falta'].fillna(data_comum)\n",
    "df"
   ]
  },
  {
   "cell_type": "code",
   "execution_count": null,
   "metadata": {},
   "outputs": [],
   "source": [
    "#Exercício 3 – Correções e Detecção de Outliers\n",
    "#a) Converta a coluna Faltas para tipo inteiro.\n",
    "df['Faltas']=df['Faltas'].astype(int)\n",
    "#b) Substitua outliers de faltas por np.nan e depois pela mediana.\n",
    "Q1, Q3 = df['Faltas'].quantile([0.25, 0.75])\n",
    "IQR = Q3 - Q1\n",
    "limite_inferior, limite_superior = Q1 - 1.5 * IQR, Q3 + 1.5 * IQR\n",
    "df['Faltas'] = df['Faltas'].apply(lambda x: np.nan if x < limite_inferior or x > limite_superior else x)\n",
    "df['Faltas'] = df['Faltas'].fillna(df['Faltas'].median())\n",
    "#c) Crie um flag “Faltas_Suspeitas” para valores > 10.\n",
    "df['Faltas_suspeitas'] = df['Faltas'].apply(lambda x: True if x > 10 else False)\n",
    "df"
   ]
  },
  {
   "cell_type": "code",
   "execution_count": null,
   "metadata": {},
   "outputs": [],
   "source": [
    "#Exercício 4 – Análise Descritiva Avançada\n",
    "#a) Qual o número total de evasões por departamento?\n",
    "evasoes_por_departamento = df[df['Evadiu'] == 'Sim'].groupby('Departamento').size()\n",
    "\n",
    "#b) Qual é o percentual de evasão considerando apenas os que participaram do turno da tarde?\n",
    "turnotarde= df[df['Turno']=='Tarde']\n",
    "evadiutarde=turnotarde[turnotarde['Evadiu']=='Sim']\n",
    "qtstarde=len(evadiutarde)\n",
    "total=len(turnotarde)\n",
    "porcent=(qtstarde / total) * 100\n",
    "print(f\" {porcent:.2f}%\")\n",
    "#c) Qual é o desvio padrão de faltas por turno?\n",
    "desviopadrao = df.groupby('Turno')['Faltas'].std().round(2).astype(str) + '%'\n",
    "desviopadrao"
   ]
  },
  {
   "cell_type": "code",
   "execution_count": null,
   "metadata": {},
   "outputs": [],
   "source": [
    "#Exercício 5 – Análise Temporal\n",
    "#a) Em qual mês ocorreu o maior número de faltas?\n",
    "df['Mês'] =df['Data_Ultima_Falta'].dt.month\n",
    "faltasmes = df.groupby('Mês')['Faltas'].sum()\n",
    "mesmaisfaltas = faltasmes.idxmax()\n",
    "faltas_no_mes = faltasmes.max()\n",
    "print(f'mes com mais falta: {mesmaisfaltas}, quantidade de faltas :{faltas_no_mes}')\n",
    "#b) Crie uma coluna Semana_Ultima_Falta e descubra qual semana teve maior concentração de ausências.\n",
    "df['Data_Ultima_Falta'] = pd.to_datetime(df['Data_Ultima_Falta'])\n",
    "df['Semana_Ultima_Falta'] = df['Data_Ultima_Falta'].dt.isocalendar().week\n",
    "faltas_por_semana = df.groupby('Semana_Ultima_Falta')['Faltas'].count()\n",
    "semana_mais_faltas = faltas_por_semana.idxmax()\n",
    "total_faltas = faltas_por_semana.max()\n",
    "print(f'A semana {semana_mais_faltas} teve a maior concentração de faltas, com {total_faltas} ausências.')\n",
    "#c) Faça uma análise cruzando dia da semana e quantidade de evasões.\n",
    "faltas_por_dia = df.groupby('Dia_da_Semana_Ultima_Falta')['Faltas'].count()\n",
    "dia_mais_faltas = faltas_por_dia.idxmax()\n",
    "concentracao_maxima = faltas_por_dia.max()\n",
    "print(f'O dia da semana com mais faltas foi {dia_mais_faltas} com {concentracao_maxima} faltas.')\n",
    "\n"
   ]
  },
  {
   "cell_type": "code",
   "execution_count": null,
   "metadata": {},
   "outputs": [],
   "source": [
    "#Exercício 6 – Análise de Risco\n",
    "#a) Crie a coluna Risco_Evasao com três categorias: alto,moderado e baixo;.\n",
    "df['Risco_Evasao'] = pd.cut(df['Faltas'], bins=[-1, 2, 4, 6], labels=['Baixo', 'Moderado', 'Alto'])\n",
    "#b) Gere uma tabela com a distribuição percentual de risco por departamento.\n",
    "tabela = pd.crosstab(df['Departamento'], df['Risco_Evasao'])\n",
    "percentual = tabela.div(tabela.sum(axis=1), axis=0) * 100\n",
    "print(percentual.round(2))\n",
    "#c) Há relação entre risco alto e turno da tarde?\n",
    "risco_alto = df[df['Risco_Evasao'] == 'Alto']\n",
    "contagem_alto_por_turno = risco_alto['Turno'].value_counts()\n",
    "total_por_turno = df['Turno'].value_counts()\n",
    "proporcao_alto_por_turno = (contagem_alto_por_turno / total_por_turno) * 100\n",
    "print(proporcao_alto_por_turno.round(2))\n"
   ]
  },
  {
   "cell_type": "markdown",
   "metadata": {},
   "source": []
  },
  {
   "cell_type": "code",
   "execution_count": null,
   "metadata": {},
   "outputs": [],
   "source": [
    "#Exercício 7 – Visualizações Estratégicas\n",
    "#a) Gráfico de barras: número de faltas por departamento.\n",
    "faltas_por_departamento = df.groupby('Departamento')['Faltas'].sum()\n",
    "plt.figure(figsize=(10, 6))\n",
    "sns.barplot(x=faltas_por_departamento.index, y=faltas_por_departamento.values, palette='Blues_d')\n",
    "plt.title('Número de Faltas por Departamento')\n",
    "plt.xlabel('Departamento')\n",
    "plt.ylabel('Número de Faltas')\n",
    "plt.xticks(rotation=45) \n",
    "plt.grid(axis='y', linestyle='--', alpha=0.7)\n",
    "plt.tight_layout()  \n",
    "plt.show()"
   ]
  },
  {
   "cell_type": "code",
   "execution_count": null,
   "metadata": {},
   "outputs": [],
   "source": [
    "#b) Gráfico de pizza: distribuição de risco de evasão.\n",
    "\n",
    "\n",
    "\n",
    "distribuicao_risco = df['Risco_Evasao'].value_counts()\n",
    "\n",
    "\n",
    "plt.figure(figsize=(10, 6)) \n",
    "plt.pie(distribuicao_risco, labels=distribuicao_risco.index, autopct='%1.1f%%', startangle=90, colors = ['#FF5733', '#FFC300', '#DAF7A6']  \n",
    " )\n",
    "\n",
    "plt.title('Distribuição de Risco de Evasão', )\n",
    "plt.axis('equal')  \n",
    "plt.show()\n",
    "\n"
   ]
  },
  {
   "cell_type": "code",
   "execution_count": null,
   "metadata": {},
   "outputs": [],
   "source": [
    "#c) Heatmap cruzando Turno e Risco_Evasao.\n",
    "tabelac = pd.crosstab(df['Turno'], df['Risco_Evasao'])\n",
    "plt.figure(figsize=(8, 6)) \n",
    "sns.heatmap(tabelac, annot=True, fmt='d', \tcmap='OrRd', cbar=True, linewidths=0.5)\n",
    "plt.title('Heatmap: Turno vs Risco de Evasão')\n",
    "plt.xlabel('Risco de Evasão')\n",
    "plt.ylabel('Turno')\n",
    "plt.tight_layout()\n",
    "plt.show()\n"
   ]
  },
  {
   "cell_type": "markdown",
   "metadata": {},
   "source": [
    "ANALISE\n",
    "\n",
    "\n",
    "1: Turno com mais faltas: Manhã\n",
    "\n",
    "2: Semana com mais faltas: semana 12 teve a maior concentração de faltas, com 33 ausências\n",
    "\n",
    "3: Departamento com mais faltas: Operações\n",
    "\n",
    "4:Turno com maior risco de evasão : Manhã \n",
    "\n",
    "5:Turno com menor risco de evasão : Tarde \n",
    "\n",
    "6: Dia com mais faltas: Segunda com 78 faltas\n",
    "\n",
    "7: Risco de evasão dos alunos: Baixo\n",
    "\n",
    "8: Departamento com menos faltas: TI"
   ]
  }
 ],
 "metadata": {
  "kernelspec": {
   "display_name": "Python 3",
   "language": "python",
   "name": "python3"
  },
  "language_info": {
   "codemirror_mode": {
    "name": "ipython",
    "version": 3
   },
   "file_extension": ".py",
   "mimetype": "text/x-python",
   "name": "python",
   "nbconvert_exporter": "python",
   "pygments_lexer": "ipython3",
   "version": "3.12.1"
  }
 },
 "nbformat": 4,
 "nbformat_minor": 2
}
